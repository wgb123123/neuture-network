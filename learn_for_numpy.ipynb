{
 "cells": [
  {
   "cell_type": "code",
   "execution_count": 1,
   "metadata": {
    "ExecuteTime": {
     "end_time": "2020-06-24T11:44:48.920328Z",
     "start_time": "2020-06-24T11:44:48.917348Z"
    }
   },
   "outputs": [],
   "source": [
    "import numpy as np"
   ]
  },
  {
   "cell_type": "code",
   "execution_count": 2,
   "metadata": {
    "ExecuteTime": {
     "end_time": "2019-12-21T08:46:47.025602Z",
     "start_time": "2019-12-21T08:46:47.015628Z"
    }
   },
   "outputs": [
    {
     "name": "stdout",
     "output_type": "stream",
     "text": [
      "[1 2 3]\n"
     ]
    }
   ],
   "source": [
    "a = np.array([1,2,3])\n",
    "print(a)"
   ]
  },
  {
   "cell_type": "code",
   "execution_count": 3,
   "metadata": {
    "ExecuteTime": {
     "end_time": "2019-12-21T08:46:47.035575Z",
     "start_time": "2019-12-21T08:46:47.027597Z"
    }
   },
   "outputs": [
    {
     "name": "stdout",
     "output_type": "stream",
     "text": [
      "[[1 2]\n",
      " [3 4]]\n"
     ]
    }
   ],
   "source": [
    "b = np.array([[1,2],[3,4]])\n",
    "print(b)"
   ]
  },
  {
   "cell_type": "code",
   "execution_count": 4,
   "metadata": {
    "ExecuteTime": {
     "end_time": "2019-12-21T08:46:47.044551Z",
     "start_time": "2019-12-21T08:46:47.037569Z"
    }
   },
   "outputs": [
    {
     "name": "stdout",
     "output_type": "stream",
     "text": [
      "[1 2 3 4 5]\n",
      "[list([1, 2, 3]) list([4, 5]) list([6, 7])]\n"
     ]
    }
   ],
   "source": [
    "#列表复制创建矩阵向量\n",
    "my_list = [1,2,3,4,5]\n",
    "second_list = [[1,2,3],[4,5],[6,7]]\n",
    "c = np.array(my_list)\n",
    "d = np.array(second_list) \n",
    "print(c)\n",
    "print(d)"
   ]
  },
  {
   "cell_type": "code",
   "execution_count": 5,
   "metadata": {
    "ExecuteTime": {
     "end_time": "2019-12-21T08:46:47.057515Z",
     "start_time": "2019-12-21T08:46:47.046546Z"
    }
   },
   "outputs": [
    {
     "name": "stdout",
     "output_type": "stream",
     "text": [
      "[0 1 2 3 4 5 6 7 8 9]\n",
      "[ 0  2  4  6  8 10]\n",
      "[0. 0. 0. 0. 0. 0. 0.]\n",
      "[[0. 0. 0. 0. 0. 0.]\n",
      " [0. 0. 0. 0. 0. 0.]\n",
      " [0. 0. 0. 0. 0. 0.]\n",
      " [0. 0. 0. 0. 0. 0.]\n",
      " [0. 0. 0. 0. 0. 0.]\n",
      " [0. 0. 0. 0. 0. 0.]\n",
      " [0. 0. 0. 0. 0. 0.]]\n",
      "[1. 1. 1. 1. 1. 1. 1.]\n",
      "[[1. 1. 1. 1. 1. 1.]\n",
      " [1. 1. 1. 1. 1. 1.]\n",
      " [1. 1. 1. 1. 1. 1.]\n",
      " [1. 1. 1. 1. 1. 1.]\n",
      " [1. 1. 1. 1. 1. 1.]\n",
      " [1. 1. 1. 1. 1. 1.]\n",
      " [1. 1. 1. 1. 1. 1.]]\n"
     ]
    }
   ],
   "source": [
    "#使用内置函数创建矩阵向量\n",
    "\n",
    "#arange函数，使用方法类似range\n",
    "vector_1 = np.arange(10)\n",
    "vector_2 = np.arange(0,11,2)\n",
    "\n",
    "#zeros函数，创建元素为0的矩阵向量\n",
    "vector_z1 = np.zeros(7)\n",
    "vector_z2 = np.zeros((7,6)) #创建矩阵注意双层括号\n",
    "\n",
    "#ones函数\n",
    "vector_o1 = np.ones(7)\n",
    "vector_o2 = np.ones((7,6)) #创建矩阵注意双层括号\n",
    "\n",
    "print(vector_1)\n",
    "print(vector_2)\n",
    "print(vector_z1)\n",
    "print(vector_z2)\n",
    "print(vector_o1)\n",
    "print(vector_o2)"
   ]
  },
  {
   "cell_type": "code",
   "execution_count": 6,
   "metadata": {
    "ExecuteTime": {
     "end_time": "2019-12-21T08:46:47.074471Z",
     "start_time": "2019-12-21T08:46:47.059511Z"
    }
   },
   "outputs": [
    {
     "name": "stdout",
     "output_type": "stream",
     "text": [
      "[1.         1.14285714 1.28571429 1.42857143 1.57142857 1.71428571\n",
      " 1.85714286 2.         2.14285714 2.28571429 2.42857143 2.57142857\n",
      " 2.71428571 2.85714286 3.        ]\n"
     ]
    }
   ],
   "source": [
    "#linspace函数，在两个值之间创建等间隔的数个点\n",
    "lin_arr = np.linspace(1,3,15)\n",
    "print(lin_arr)"
   ]
  },
  {
   "cell_type": "code",
   "execution_count": 7,
   "metadata": {
    "ExecuteTime": {
     "end_time": "2019-12-21T08:46:47.083447Z",
     "start_time": "2019-12-21T08:46:47.075467Z"
    }
   },
   "outputs": [
    {
     "name": "stdout",
     "output_type": "stream",
     "text": [
      "[[1. 0. 0. 0. 0. 0.]\n",
      " [0. 1. 0. 0. 0. 0.]\n",
      " [0. 0. 1. 0. 0. 0.]\n",
      " [0. 0. 0. 1. 0. 0.]\n",
      " [0. 0. 0. 0. 1. 0.]\n",
      " [0. 0. 0. 0. 0. 1.]]\n"
     ]
    }
   ],
   "source": [
    "#eye函数，创建单位矩阵(E)\n",
    "my_matrx = np.eye(6)\n",
    "print(my_matrx)"
   ]
  },
  {
   "cell_type": "code",
   "execution_count": 8,
   "metadata": {
    "ExecuteTime": {
     "end_time": "2019-12-21T08:46:47.099405Z",
     "start_time": "2019-12-21T08:46:47.084444Z"
    }
   },
   "outputs": [
    {
     "name": "stdout",
     "output_type": "stream",
     "text": [
      "[[0.2813701  0.62243787 0.21800322 0.41547542]\n",
      " [0.41552824 0.84330162 0.89019327 0.71143913]\n",
      " [0.88786321 0.01283196 0.45702968 0.750603  ]\n",
      " [0.2487925  0.57781083 0.53349429 0.59084897]\n",
      " [0.77671373 0.33268635 0.07408498 0.61715115]]\n",
      "[-1.42912097  0.87347934  0.18111063 -1.6698372   2.07160968 -0.10829775\n",
      " -0.11901153]\n",
      "[[-1.07868204 -0.64775246 -1.38256681 -1.28834279  0.03077504]\n",
      " [ 0.28729889 -0.02220295 -1.55057006 -1.86283564  0.10447328]\n",
      " [-0.01661651 -0.68699003  0.38122342 -1.13322567  0.21473868]\n",
      " [ 0.52529187  1.58843132 -0.03269845 -0.82269908 -0.57714008]\n",
      " [ 0.03832453  0.52173395  1.33314066  0.20993298 -2.06971569]\n",
      " [ 0.43703583 -0.75585153 -0.33692395 -1.14506221  0.49661782]\n",
      " [-0.47836922 -1.7046346   1.75534239 -0.27895994 -2.82668803]]\n",
      "[8 4 5 2 2 5 4 7 7 1]\n"
     ]
    }
   ],
   "source": [
    "#rand(),randn(),randint(),生成随机数组成的矩阵\n",
    "my_rand = np.random.rand(5,4)\n",
    "#以标准正态分布或高斯分布产生随机数\n",
    "my_randn = np.random.randn(7)\n",
    "my_randn1 = np.random.randn(7,5)\n",
    "#randint:在一个取值区间内随机生成几个数\n",
    "my_randint = np.random.randint(1,10,10)\n",
    "\n",
    "print(my_rand)\n",
    "print(my_randn)\n",
    "print(my_randn1)\n",
    "print(my_randint)"
   ]
  },
  {
   "cell_type": "code",
   "execution_count": 9,
   "metadata": {
    "ExecuteTime": {
     "end_time": "2019-12-21T08:46:47.113366Z",
     "start_time": "2019-12-21T08:46:47.101400Z"
    }
   },
   "outputs": [
    {
     "name": "stdout",
     "output_type": "stream",
     "text": [
      "(2, 3)\n",
      "[[1 2]\n",
      " [3 4]\n",
      " [5 6]]\n"
     ]
    }
   ],
   "source": [
    "a = np.array([[1,2,3],[4,5,6]])\n",
    "#获取矩阵的维度\n",
    "print(a.shape)\n",
    "#resharp函数，可改变矩阵的维度\n",
    "b = a.reshape(3,2)\n",
    "print(b)"
   ]
  },
  {
   "cell_type": "code",
   "execution_count": 10,
   "metadata": {
    "ExecuteTime": {
     "end_time": "2019-12-21T08:46:47.125335Z",
     "start_time": "2019-12-21T08:46:47.116358Z"
    }
   },
   "outputs": [
    {
     "name": "stdout",
     "output_type": "stream",
     "text": [
      "<class 'numpy.ndarray'> <class 'numpy.matrix'>\n",
      "<class 'numpy.ndarray'> <class 'numpy.matrix'>\n"
     ]
    }
   ],
   "source": [
    "a = np.array([[1,2],[3,4],[11,12]])\n",
    "b = np.array([[5,6,13],[7,8,14]])\n",
    "c = np.array([[1,2,13],[3,4,25],[11,12,23]])\n",
    "d = np.array([[5,6,2],[7,8,29],[13,14,15]])\n",
    "\n",
    "matrix_a = np.matrix(a)         # (3,2)\n",
    "matrix_b = np.matrix(b)         # (2,3)\n",
    "matrix_c = np.matrix(c)         # (3,3)\n",
    "matrix_d = np.matrix(d)         # (3,3)\n",
    "\n",
    "print(type(a),type(matrix_a))  # <class 'numpy.ndarray'> <class 'numpy.matrixlib.defmatrix.matrix'>\n",
    "mat_a = np.mat(a)\n",
    "print(type(a),type(matrix_a))  # <class 'numpy.ndarray'> <class 'numpy.matrixlib.defmatrix.matrix'>\n"
   ]
  },
  {
   "cell_type": "code",
   "execution_count": 11,
   "metadata": {
    "ExecuteTime": {
     "end_time": "2019-12-21T08:46:47.141292Z",
     "start_time": "2019-12-21T08:46:47.127328Z"
    }
   },
   "outputs": [
    {
     "name": "stdout",
     "output_type": "stream",
     "text": [
      "[[ 19  22  41]\n",
      " [ 43  50  95]\n",
      " [139 162 311]]\n",
      "[[ True  True  True]\n",
      " [ True  True  True]\n",
      " [ True  True  True]]\n",
      "[[ True  True  True]\n",
      " [ True  True  True]\n",
      " [ True  True  True]]\n"
     ]
    }
   ],
   "source": [
    "'''\n",
    "# 1) matrix multiplication\n",
    "矩阵乘法： (m,n) x (n,p) --> (m,p)    # 矩阵乘法运算前提：矩阵1的列=矩阵2的行\n",
    "3种用法： np.dot(matrix_a, matrix_b) == matrix_a @ matrix_b == matrix_a * matrix_b\n",
    "'''\n",
    "method_1 = matrix_a @ matrix_b\n",
    "method_2 = np.dot(matrix_a, matrix_b)\n",
    "\n",
    "print(method_1)\n",
    "#[[ 19  22  41]\n",
    "# [ 43  50  95]\n",
    "# [139 162 311]]\n",
    "print(method_2 == method_1)\n",
    "#[[ True  True  True]\n",
    "# [ True  True  True]\n",
    "# [ True  True  True]]\n",
    "print(matrix_c * matrix_d == matrix_c @ matrix_d)\n",
    "#[[ True  True  True]\n",
    "# [ True  True  True]\n",
    "# [ True  True  True]]\n"
   ]
  },
  {
   "cell_type": "code",
   "execution_count": 12,
   "metadata": {
    "ExecuteTime": {
     "end_time": "2019-12-21T08:46:47.150267Z",
     "start_time": "2019-12-21T08:46:47.142288Z"
    }
   },
   "outputs": [
    {
     "name": "stdout",
     "output_type": "stream",
     "text": [
      "[[ 1  2 13]\n",
      " [ 3  4 25]\n",
      " [11 12 23]]\n",
      "[[ 5  6  2]\n",
      " [ 7  8 29]\n",
      " [13 14 15]]\n",
      "[[  5  12  26]\n",
      " [ 21  32 725]\n",
      " [143 168 345]]\n"
     ]
    }
   ],
   "source": [
    "\n",
    "'''\n",
    "# 2） element-wise product ： 矩阵对应元素相乘\n",
    "1种用法：np.multiply(matrix_c, matrix_d)\n",
    "对于nd.array()类型而言，数组 arrA * arrB 只能element-wise produt(对应元素相乘) \n",
    "'''\n",
    "print(matrix_c, matrix_d, sep='\\n')\n",
    "#[[ 1  2 13]\n",
    "# [ 3  4 25]\n",
    "# [11 12 23]]\n",
    "#[[ 5  6  2]\n",
    "# [ 7  8 29]\n",
    "# [13 14 15]]\n",
    "\n",
    "method_1 = np.multiply(matrix_c, matrix_d)      # 对应位置元素相乘\n",
    "\n",
    "print(method_1)\n",
    "#[[  5  12  26]\n",
    "# [ 21  32 725]\n",
    "# [143 168 345]]"
   ]
  },
  {
   "cell_type": "code",
   "execution_count": 13,
   "metadata": {
    "ExecuteTime": {
     "end_time": "2019-12-21T08:46:48.829312Z",
     "start_time": "2019-12-21T08:46:47.152263Z"
    }
   },
   "outputs": [
    {
     "data": {
      "text/plain": [
       "<Figure size 640x480 with 1 Axes>"
      ]
     },
     "metadata": {},
     "output_type": "display_data"
    }
   ],
   "source": [
    "import matplotlib.pyplot as plt\n",
    "\n",
    "#图形输入值\n",
    "input_values = [1,2,3,4,5]\n",
    "#图形输出值\n",
    "squares = [1,4,9,16,25]\n",
    "\n",
    "#plot根据列表绘制出有意义的图形，linewidth是图形线宽，可省略\n",
    "plt.plot(input_values,squares,linewidth=5)\n",
    "#设置图标标题\n",
    "plt.title(\"Square Numbers\",fontsize = 24)\n",
    "#设置坐标轴标签\n",
    "plt.xlabel(\"Value\",fontsize = 14)\n",
    "plt.ylabel(\"Square of Value\",fontsize = 14)\n",
    "#设置刻度标记的大小\n",
    "plt.tick_params(axis='both',labelsize = 14)\n",
    "#打开matplotlib查看器，并显示绘制图形\n",
    "plt.show()"
   ]
  },
  {
   "cell_type": "code",
   "execution_count": 14,
   "metadata": {
    "ExecuteTime": {
     "end_time": "2019-12-21T08:46:48.838287Z",
     "start_time": "2019-12-21T08:46:48.832303Z"
    }
   },
   "outputs": [
    {
     "name": "stdout",
     "output_type": "stream",
     "text": [
      "[[[1 2 3 4 5 6]]]\n",
      "[1 2 3 4 5 6]\n"
     ]
    }
   ],
   "source": [
    "#squeeze 函数：从数组的形状中删除单维度条目，即把shape中为1的维度去掉\n",
    "'''\n",
    "    用法：numpy.squeeze(a,axis = None)\n",
    "    1）a表示输入的数组；\n",
    "    2）axis用于指定需要删除的维度，但是指定的维度必须为单维度，否则将会报错；\n",
    "    3）axis的取值可为None 或 int 或 tuple of ints, 可选。若axis为空，则删除所有单维度的条目；\n",
    "    4）返回值：数组；\n",
    "    5) 不会修改原数组。\n",
    "\n",
    "'''\n",
    "a = np.array([[[1,2,3,4,5,6]]])\n",
    "print(a)\n",
    "a = np.squeeze(a)\n",
    "print(a)"
   ]
  },
  {
   "cell_type": "code",
   "execution_count": 15,
   "metadata": {
    "ExecuteTime": {
     "end_time": "2019-12-21T08:47:21.437773Z",
     "start_time": "2019-12-21T08:47:21.432757Z"
    }
   },
   "outputs": [
    {
     "data": {
      "text/plain": [
       "3"
      ]
     },
     "execution_count": 15,
     "metadata": {},
     "output_type": "execute_result"
    }
   ],
   "source": [
    "a = np.array([5,6,1,23,3])\n",
    "np.argmax(a)"
   ]
  },
  {
   "cell_type": "code",
   "execution_count": 6,
   "metadata": {
    "ExecuteTime": {
     "end_time": "2020-06-24T12:04:38.785023Z",
     "start_time": "2020-06-24T12:04:38.781033Z"
    }
   },
   "outputs": [],
   "source": [
    "def objective_function(individual):\n",
    "    distance = 0\n",
    "    for index in range(100):\n",
    "        distance += np.sqrt(((individual - data[index]) ** 2).sum(axis=0))  # subtract 减\n",
    "    return distance\n"
   ]
  },
  {
   "cell_type": "code",
   "execution_count": 7,
   "metadata": {
    "ExecuteTime": {
     "end_time": "2020-06-24T12:04:41.874861Z",
     "start_time": "2020-06-24T12:04:41.868877Z"
    }
   },
   "outputs": [],
   "source": [
    "data = np.loadtxt(\"C:\\\\Users\\\\User\\\\PycharmProjects\\\\GAK-means\\\\uniform_location_demo.txt\", delimiter=',')"
   ]
  },
  {
   "cell_type": "code",
   "execution_count": 15,
   "metadata": {
    "ExecuteTime": {
     "end_time": "2020-06-24T10:10:04.422327Z",
     "start_time": "2020-06-24T10:10:04.415317Z"
    }
   },
   "outputs": [
    {
     "data": {
      "text/plain": [
       "19117.147966226443"
      ]
     },
     "execution_count": 15,
     "metadata": {},
     "output_type": "execute_result"
    }
   ],
   "source": [
    "objective_function(np.array([100,100]))\n"
   ]
  },
  {
   "cell_type": "code",
   "execution_count": 12,
   "metadata": {
    "ExecuteTime": {
     "end_time": "2020-06-24T10:08:46.916567Z",
     "start_time": "2020-06-24T10:08:46.911581Z"
    }
   },
   "outputs": [
    {
     "data": {
      "text/plain": [
       "70.71067811865476"
      ]
     },
     "execution_count": 12,
     "metadata": {},
     "output_type": "execute_result"
    }
   ],
   "source": [
    "np.sqrt(((np.array([100,100]) - np.array([150,150])) ** 2).sum(axis=0))"
   ]
  },
  {
   "cell_type": "code",
   "execution_count": 5,
   "metadata": {
    "ExecuteTime": {
     "end_time": "2020-06-24T11:55:31.482218Z",
     "start_time": "2020-06-24T11:55:31.477259Z"
    }
   },
   "outputs": [
    {
     "name": "stdout",
     "output_type": "stream",
     "text": [
      "[[1 2 5]\n",
      " [2 4 3]\n",
      " [5 3 1]\n",
      " [5 7 8]]\n",
      "[[5 3 1]\n",
      " [2 4 3]\n",
      " [1 2 5]\n",
      " [5 7 8]]\n"
     ]
    }
   ],
   "source": [
    "#排序\n",
    "# a = np.array([[1,2,1],[2,4,2],[5,3,3],[5,7,4]])\n",
    "a = np.array([[1,2,5],[2,4,3],[5,3,1],[5,7,8]])\n",
    "\n",
    "print(a)\n",
    "a = a[a[:,2].argsort()]\n",
    "print(a)"
   ]
  },
  {
   "cell_type": "code",
   "execution_count": 11,
   "metadata": {
    "ExecuteTime": {
     "end_time": "2020-06-24T12:06:11.446996Z",
     "start_time": "2020-06-24T12:06:11.438018Z"
    }
   },
   "outputs": [
    {
     "ename": "NameError",
     "evalue": "name 'ga' is not defined",
     "output_type": "error",
     "traceback": [
      "\u001b[1;31m---------------------------------------------------------------------------\u001b[0m",
      "\u001b[1;31mNameError\u001b[0m                                 Traceback (most recent call last)",
      "\u001b[1;32m<ipython-input-11-1efa9e391f42>\u001b[0m in \u001b[0;36m<module>\u001b[1;34m\u001b[0m\n\u001b[0;32m      2\u001b[0m \u001b[1;31m#print(Y)\u001b[0m\u001b[1;33m\u001b[0m\u001b[1;33m\u001b[0m\u001b[1;33m\u001b[0m\u001b[0m\n\u001b[0;32m      3\u001b[0m \u001b[1;32mfor\u001b[0m \u001b[0mindex\u001b[0m \u001b[1;32min\u001b[0m \u001b[0mrange\u001b[0m\u001b[1;33m(\u001b[0m\u001b[1;36m100\u001b[0m\u001b[1;33m)\u001b[0m\u001b[1;33m:\u001b[0m\u001b[1;33m\u001b[0m\u001b[1;33m\u001b[0m\u001b[0m\n\u001b[1;32m----> 4\u001b[1;33m      \u001b[0mY\u001b[0m\u001b[1;33m[\u001b[0m\u001b[0mindex\u001b[0m\u001b[1;33m]\u001b[0m \u001b[1;33m=\u001b[0m \u001b[0mobjective_function\u001b[0m\u001b[1;33m(\u001b[0m\u001b[0mga\u001b[0m\u001b[1;33m.\u001b[0m\u001b[0mX\u001b[0m\u001b[1;33m[\u001b[0m\u001b[0mindex\u001b[0m\u001b[1;33m]\u001b[0m\u001b[1;33m)\u001b[0m\u001b[1;33m\u001b[0m\u001b[1;33m\u001b[0m\u001b[0m\n\u001b[0m\u001b[0;32m      5\u001b[0m      \u001b[1;31m# print(Y)\u001b[0m\u001b[1;33m\u001b[0m\u001b[1;33m\u001b[0m\u001b[1;33m\u001b[0m\u001b[0m\n\u001b[0;32m      6\u001b[0m \u001b[0mprint\u001b[0m\u001b[1;33m(\u001b[0m\u001b[0mY\u001b[0m\u001b[1;33m)\u001b[0m\u001b[1;33m\u001b[0m\u001b[1;33m\u001b[0m\u001b[0m\n",
      "\u001b[1;31mNameError\u001b[0m: name 'ga' is not defined"
     ]
    }
   ],
   "source": [
    "Y = np.zeros((100,1))\n",
    "#print(Y)\n",
    "for index in range(100):\n",
    "     Y[index] = objective_function(ga.X[index])\n",
    "     # print(Y)\n",
    "print(Y)\n",
    "# o = np.hstack(ga.X,Y)\n",
    "# o = o[o[:,2].argsort()]\n",
    "# print(o)\n"
   ]
  },
  {
   "cell_type": "code",
   "execution_count": 14,
   "metadata": {
    "ExecuteTime": {
     "end_time": "2020-06-24T12:20:53.251122Z",
     "start_time": "2020-06-24T12:20:53.247132Z"
    }
   },
   "outputs": [],
   "source": [
    "def objective_function(x):\n",
    "    return max(5e-4*(1-x),4.75e-4*x)"
   ]
  },
  {
   "cell_type": "code",
   "execution_count": 18,
   "metadata": {
    "ExecuteTime": {
     "end_time": "2020-06-24T12:28:49.068490Z",
     "start_time": "2020-06-24T12:28:49.057548Z"
    }
   },
   "outputs": [
    {
     "ename": "ValueError",
     "evalue": "The truth value of an array with more than one element is ambiguous. Use a.any() or a.all()",
     "output_type": "error",
     "traceback": [
      "\u001b[1;31m---------------------------------------------------------------------------\u001b[0m",
      "\u001b[1;31mValueError\u001b[0m                                Traceback (most recent call last)",
      "\u001b[1;32m<ipython-input-18-79d8aee5388d>\u001b[0m in \u001b[0;36m<module>\u001b[1;34m\u001b[0m\n\u001b[1;32m----> 1\u001b[1;33m \u001b[0mobjective_function\u001b[0m\u001b[1;33m(\u001b[0m\u001b[0mnp\u001b[0m\u001b[1;33m.\u001b[0m\u001b[0marray\u001b[0m\u001b[1;33m(\u001b[0m\u001b[1;33m[\u001b[0m\u001b[1;36m1\u001b[0m\u001b[1;33m,\u001b[0m\u001b[1;36m2\u001b[0m\u001b[1;33m,\u001b[0m\u001b[1;36m3\u001b[0m\u001b[1;33m,\u001b[0m\u001b[1;36m4\u001b[0m\u001b[1;33m]\u001b[0m\u001b[1;33m)\u001b[0m\u001b[1;33m)\u001b[0m\u001b[1;33m\u001b[0m\u001b[1;33m\u001b[0m\u001b[0m\n\u001b[0m",
      "\u001b[1;32m<ipython-input-14-cdbf757fbbc5>\u001b[0m in \u001b[0;36mobjective_function\u001b[1;34m(x)\u001b[0m\n\u001b[0;32m      1\u001b[0m \u001b[1;32mdef\u001b[0m \u001b[0mobjective_function\u001b[0m\u001b[1;33m(\u001b[0m\u001b[0mx\u001b[0m\u001b[1;33m)\u001b[0m\u001b[1;33m:\u001b[0m\u001b[1;33m\u001b[0m\u001b[1;33m\u001b[0m\u001b[0m\n\u001b[1;32m----> 2\u001b[1;33m     \u001b[1;32mreturn\u001b[0m \u001b[0mmax\u001b[0m\u001b[1;33m(\u001b[0m\u001b[1;36m5e-4\u001b[0m\u001b[1;33m*\u001b[0m\u001b[1;33m(\u001b[0m\u001b[1;36m1\u001b[0m\u001b[1;33m-\u001b[0m\u001b[0mx\u001b[0m\u001b[1;33m)\u001b[0m\u001b[1;33m,\u001b[0m\u001b[1;36m4.75e-4\u001b[0m\u001b[1;33m*\u001b[0m\u001b[0mx\u001b[0m\u001b[1;33m)\u001b[0m\u001b[1;33m\u001b[0m\u001b[1;33m\u001b[0m\u001b[0m\n\u001b[0m",
      "\u001b[1;31mValueError\u001b[0m: The truth value of an array with more than one element is ambiguous. Use a.any() or a.all()"
     ]
    }
   ],
   "source": [
    "objective_function(np.array([1,2,3,4]))\n"
   ]
  },
  {
   "cell_type": "code",
   "execution_count": 14,
   "metadata": {},
   "outputs": [
    {
     "ename": "TypeError",
     "evalue": "data type not understood",
     "output_type": "error",
     "traceback": [
      "\u001b[1;31m---------------------------------------------------------------------------\u001b[0m",
      "\u001b[1;31mTypeError\u001b[0m                                 Traceback (most recent call last)",
      "\u001b[1;32m<ipython-input-14-0e92471ab8e8>\u001b[0m in \u001b[0;36m<module>\u001b[1;34m\u001b[0m\n\u001b[0;32m      1\u001b[0m \u001b[0mx\u001b[0m \u001b[1;33m=\u001b[0m \u001b[0mnp\u001b[0m\u001b[1;33m.\u001b[0m\u001b[0marray\u001b[0m\u001b[1;33m(\u001b[0m\u001b[1;33m[\u001b[0m\u001b[1;33m[\u001b[0m\u001b[1;36m1\u001b[0m\u001b[1;33m,\u001b[0m\u001b[1;36m2\u001b[0m\u001b[1;33m]\u001b[0m\u001b[1;33m,\u001b[0m\u001b[1;33m[\u001b[0m\u001b[1;36m2\u001b[0m\u001b[1;33m,\u001b[0m\u001b[1;36m4\u001b[0m\u001b[1;33m]\u001b[0m\u001b[1;33m]\u001b[0m\u001b[1;33m)\u001b[0m\u001b[1;33m\u001b[0m\u001b[1;33m\u001b[0m\u001b[0m\n\u001b[0;32m      2\u001b[0m \u001b[0my\u001b[0m \u001b[1;33m=\u001b[0m \u001b[0mnp\u001b[0m\u001b[1;33m.\u001b[0m\u001b[0marray\u001b[0m\u001b[1;33m(\u001b[0m\u001b[1;33m[\u001b[0m\u001b[1;33m[\u001b[0m\u001b[1;36m0\u001b[0m\u001b[1;33m]\u001b[0m\u001b[1;33m,\u001b[0m\u001b[1;33m[\u001b[0m\u001b[1;36m1\u001b[0m\u001b[1;33m]\u001b[0m\u001b[1;33m]\u001b[0m\u001b[1;33m)\u001b[0m\u001b[1;33m\u001b[0m\u001b[1;33m\u001b[0m\u001b[0m\n\u001b[1;32m----> 3\u001b[1;33m \u001b[0mo\u001b[0m \u001b[1;33m=\u001b[0m \u001b[0mnp\u001b[0m\u001b[1;33m.\u001b[0m\u001b[0mhstack\u001b[0m\u001b[1;33m(\u001b[0m\u001b[1;33m[\u001b[0m\u001b[0mx\u001b[0m\u001b[1;33m,\u001b[0m\u001b[0mnp\u001b[0m\u001b[1;33m.\u001b[0m\u001b[0mzeros\u001b[0m\u001b[1;33m(\u001b[0m\u001b[1;36m2\u001b[0m\u001b[1;33m,\u001b[0m\u001b[1;36m1\u001b[0m\u001b[1;33m)\u001b[0m\u001b[1;33m]\u001b[0m\u001b[1;33m)\u001b[0m\u001b[1;33m\u001b[0m\u001b[1;33m\u001b[0m\u001b[0m\n\u001b[0m\u001b[0;32m      4\u001b[0m \u001b[1;31m#o = np.concatenate([x,y],axis=1)\u001b[0m\u001b[1;33m\u001b[0m\u001b[1;33m\u001b[0m\u001b[1;33m\u001b[0m\u001b[0m\n\u001b[0;32m      5\u001b[0m \u001b[0mprint\u001b[0m\u001b[1;33m(\u001b[0m\u001b[0mo\u001b[0m\u001b[1;33m)\u001b[0m\u001b[1;33m\u001b[0m\u001b[1;33m\u001b[0m\u001b[0m\n",
      "\u001b[1;31mTypeError\u001b[0m: data type not understood"
     ]
    }
   ],
   "source": [
    "x = np.array([[1,2],[2,4]])\n",
    "y = np.array([[0],[1]])\n",
    "o = np.hstack([x,np.zeros(2,1)])\n",
    "#o = np.concatenate([x,y],axis=1)\n",
    "print(o)"
   ]
  },
  {
   "cell_type": "code",
   "execution_count": 10,
   "metadata": {},
   "outputs": [
    {
     "name": "stdout",
     "output_type": "stream",
     "text": [
      "[0 1 2]\n",
      "[[0]\n",
      " [1]\n",
      " [2]]\n"
     ]
    }
   ],
   "source": [
    "x = np.array([0,1,2])\n",
    "print(x)\n",
    "x = np.expand_dims(x,axis=1)\n",
    "print(x)\n"
   ]
  },
  {
   "cell_type": "code",
   "execution_count": 12,
   "metadata": {},
   "outputs": [
    {
     "ename": "NameError",
     "evalue": "name 'e' is not defined",
     "output_type": "error",
     "traceback": [
      "\u001b[1;31m---------------------------------------------------------------------------\u001b[0m",
      "\u001b[1;31mNameError\u001b[0m                                 Traceback (most recent call last)",
      "\u001b[1;32m<ipython-input-12-f1eac00bb7bc>\u001b[0m in \u001b[0;36m<module>\u001b[1;34m\u001b[0m\n\u001b[1;32m----> 1\u001b[1;33m \u001b[0mprint\u001b[0m\u001b[1;33m(\u001b[0m\u001b[0me\u001b[0m \u001b[1;32min\u001b[0m \u001b[1;33m[\u001b[0m\u001b[1;36m0\u001b[0m\u001b[1;33m,\u001b[0m\u001b[1;36m1\u001b[0m\u001b[1;33m,\u001b[0m\u001b[1;36m2\u001b[0m\u001b[1;33m,\u001b[0m\u001b[1;36m3\u001b[0m\u001b[1;33m]\u001b[0m\u001b[1;33m)\u001b[0m\u001b[1;33m\u001b[0m\u001b[1;33m\u001b[0m\u001b[0m\n\u001b[0m",
      "\u001b[1;31mNameError\u001b[0m: name 'e' is not defined"
     ]
    }
   ],
   "source": [
    "print(e in [0,1,2,3])"
   ]
  },
  {
   "cell_type": "code",
   "execution_count": 19,
   "metadata": {},
   "outputs": [
    {
     "data": {
      "text/plain": [
       "array([[100],\n",
       "       [100],\n",
       "       [100],\n",
       "       [100]])"
      ]
     },
     "execution_count": 19,
     "metadata": {},
     "output_type": "execute_result"
    }
   ],
   "source": [
    "np.full((4,1),100)"
   ]
  },
  {
   "cell_type": "code",
   "execution_count": 2,
   "metadata": {},
   "outputs": [],
   "source": [
    "rewards = [-2, -2, -2, 10, 1, -1, 0]"
   ]
  },
  {
   "cell_type": "code",
   "execution_count": 4,
   "metadata": {},
   "outputs": [
    {
     "name": "stdout",
     "output_type": "stream",
     "text": [
      "[[-2]\n",
      " [-2]\n",
      " [-2]\n",
      " [10]\n",
      " [ 1]\n",
      " [-1]\n",
      " [ 0]]\n"
     ]
    }
   ],
   "source": [
    "rewards = np.array(rewards).reshape((-1,1))\n",
    "print(rewards)"
   ]
  },
  {
   "cell_type": "code",
   "execution_count": null,
   "metadata": {},
   "outputs": [],
   "source": []
  }
 ],
 "metadata": {
  "kernelspec": {
   "display_name": "Python 3",
   "language": "python",
   "name": "python3"
  },
  "language_info": {
   "codemirror_mode": {
    "name": "ipython",
    "version": 3
   },
   "file_extension": ".py",
   "mimetype": "text/x-python",
   "name": "python",
   "nbconvert_exporter": "python",
   "pygments_lexer": "ipython3",
   "version": "3.7.4"
  },
  "varInspector": {
   "cols": {
    "lenName": 16,
    "lenType": 16,
    "lenVar": 40
   },
   "kernels_config": {
    "python": {
     "delete_cmd_postfix": "",
     "delete_cmd_prefix": "del ",
     "library": "var_list.py",
     "varRefreshCmd": "print(var_dic_list())"
    },
    "r": {
     "delete_cmd_postfix": ") ",
     "delete_cmd_prefix": "rm(",
     "library": "var_list.r",
     "varRefreshCmd": "cat(var_dic_list()) "
    }
   },
   "types_to_exclude": [
    "module",
    "function",
    "builtin_function_or_method",
    "instance",
    "_Feature"
   ],
   "window_display": false
  }
 },
 "nbformat": 4,
 "nbformat_minor": 4
}
